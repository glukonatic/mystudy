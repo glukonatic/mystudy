{
  "nbformat": 4,
  "nbformat_minor": 0,
  "metadata": {
    "colab": {
      "name": "Jira-api.ipynb",
      "provenance": [],
      "collapsed_sections": [],
      "authorship_tag": "ABX9TyOToBIgECml6W1RNQDe9uuh",
      "include_colab_link": true
    },
    "kernelspec": {
      "name": "python3",
      "display_name": "Python 3"
    }
  },
  "cells": [
    {
      "cell_type": "markdown",
      "metadata": {
        "id": "view-in-github",
        "colab_type": "text"
      },
      "source": [
        "<a href=\"https://colab.research.google.com/github/glukonatic/mystudy/blob/master/Jira_api.ipynb\" target=\"_parent\"><img src=\"https://colab.research.google.com/assets/colab-badge.svg\" alt=\"Open In Colab\"/></a>"
      ]
    },
    {
      "cell_type": "code",
      "metadata": {
        "id": "mJxXo1f14BX6",
        "cellView": "form",
        "outputId": "012772b2-3457-4942-b7e4-8d8fffca6a11",
        "colab": {
          "base_uri": "https://localhost:8080/",
          "height": 493
        }
      },
      "source": [
        "#@title Доустановка модуля jira\n",
        "!pip install jira"
      ],
      "execution_count": 1,
      "outputs": [
        {
          "output_type": "stream",
          "text": [
            "Collecting jira\n",
            "\u001b[?25l  Downloading https://files.pythonhosted.org/packages/cb/c2/4203b6cad72d115b0ad62ae7028567b538c8933745f665d0eee5082baf67/jira-2.0.0-py2.py3-none-any.whl (57kB)\n",
            "\u001b[K     |████████████████████████████████| 61kB 3.4MB/s \n",
            "\u001b[?25hRequirement already satisfied: defusedxml in /usr/local/lib/python3.6/dist-packages (from jira) (0.6.0)\n",
            "Collecting pbr>=3.0.0\n",
            "\u001b[?25l  Downloading https://files.pythonhosted.org/packages/c1/a3/d439f338aa90edd5ad9096cd56564b44882182150e92148eb14ceb7488ba/pbr-5.5.0-py2.py3-none-any.whl (106kB)\n",
            "\u001b[K     |████████████████████████████████| 112kB 6.6MB/s \n",
            "\u001b[?25hRequirement already satisfied: setuptools>=20.10.1 in /usr/local/lib/python3.6/dist-packages (from jira) (50.3.0)\n",
            "Requirement already satisfied: requests>=2.10.0 in /usr/local/lib/python3.6/dist-packages (from jira) (2.23.0)\n",
            "Requirement already satisfied: requests-oauthlib>=0.6.1 in /usr/local/lib/python3.6/dist-packages (from jira) (1.3.0)\n",
            "Collecting requests-toolbelt\n",
            "\u001b[?25l  Downloading https://files.pythonhosted.org/packages/60/ef/7681134338fc097acef8d9b2f8abe0458e4d87559c689a8c306d0957ece5/requests_toolbelt-0.9.1-py2.py3-none-any.whl (54kB)\n",
            "\u001b[K     |████████████████████████████████| 61kB 5.1MB/s \n",
            "\u001b[?25hRequirement already satisfied: oauthlib[signedtoken]>=1.0.0 in /usr/local/lib/python3.6/dist-packages (from jira) (3.1.0)\n",
            "Requirement already satisfied: six>=1.10.0 in /usr/local/lib/python3.6/dist-packages (from jira) (1.15.0)\n",
            "Requirement already satisfied: idna<3,>=2.5 in /usr/local/lib/python3.6/dist-packages (from requests>=2.10.0->jira) (2.10)\n",
            "Requirement already satisfied: certifi>=2017.4.17 in /usr/local/lib/python3.6/dist-packages (from requests>=2.10.0->jira) (2020.6.20)\n",
            "Requirement already satisfied: chardet<4,>=3.0.2 in /usr/local/lib/python3.6/dist-packages (from requests>=2.10.0->jira) (3.0.4)\n",
            "Requirement already satisfied: urllib3!=1.25.0,!=1.25.1,<1.26,>=1.21.1 in /usr/local/lib/python3.6/dist-packages (from requests>=2.10.0->jira) (1.24.3)\n",
            "Collecting cryptography; extra == \"signedtoken\"\n",
            "\u001b[?25l  Downloading https://files.pythonhosted.org/packages/33/62/30f6936941d87a5ed72efb24249437824f6b2c953901245b58c91fde2f27/cryptography-3.1.1-cp35-abi3-manylinux2010_x86_64.whl (2.6MB)\n",
            "\u001b[K     |████████████████████████████████| 2.6MB 9.0MB/s \n",
            "\u001b[?25hCollecting pyjwt>=1.0.0; extra == \"signedtoken\"\n",
            "  Downloading https://files.pythonhosted.org/packages/87/8b/6a9f14b5f781697e51259d81657e6048fd31a113229cf346880bb7545565/PyJWT-1.7.1-py2.py3-none-any.whl\n",
            "Requirement already satisfied: cffi!=1.11.3,>=1.8 in /usr/local/lib/python3.6/dist-packages (from cryptography; extra == \"signedtoken\"->oauthlib[signedtoken]>=1.0.0->jira) (1.14.3)\n",
            "Requirement already satisfied: pycparser in /usr/local/lib/python3.6/dist-packages (from cffi!=1.11.3,>=1.8->cryptography; extra == \"signedtoken\"->oauthlib[signedtoken]>=1.0.0->jira) (2.20)\n",
            "Installing collected packages: pbr, requests-toolbelt, jira, cryptography, pyjwt\n",
            "Successfully installed cryptography-3.1.1 jira-2.0.0 pbr-5.5.0 pyjwt-1.7.1 requests-toolbelt-0.9.1\n"
          ],
          "name": "stdout"
        }
      ]
    },
    {
      "cell_type": "code",
      "metadata": {
        "id": "eO3wamAu4ISW",
        "cellView": "form"
      },
      "source": [
        "#@title Импорт библиотек\n",
        "\n",
        "from jira import JIRA\n",
        "from datetime import timedelta, datetime\n",
        "import dateutil.parser\n",
        "import pytz\n",
        "from google.colab import files"
      ],
      "execution_count": 2,
      "outputs": []
    },
    {
      "cell_type": "code",
      "metadata": {
        "id": "olrOz3bJs9sj",
        "cellView": "form"
      },
      "source": [
        "#@title Введите логин и пароль к Jira\n",
        "\n",
        "jira_login = 'anton.nagovitsin@zyfra.com'  #@param {type: \"string\"}\n",
        "jira_pass = 'M1x@lbl4v15t'  #@param {type: \"string\"}\n"
      ],
      "execution_count": 3,
      "outputs": []
    },
    {
      "cell_type": "code",
      "metadata": {
        "id": "Sz_elRzQSmb3",
        "cellView": "form"
      },
      "source": [
        "#@title Введите количество дней\n",
        "#@markdown За сколько дней выгрузить комментарии Джиры?\n",
        "\n",
        "days = 1  #@param {type: \"number\", min: 1, max: 150}\n",
        "\n",
        "delta = timedelta(days=days)\n",
        "utc=pytz.UTC"
      ],
      "execution_count": 6,
      "outputs": []
    },
    {
      "cell_type": "code",
      "metadata": {
        "id": "w_DSPmvO4KrJ",
        "cellView": "form"
      },
      "source": [
        "#@title Подключение к Jira, получение списка всех тикетов\n",
        "\n",
        "jira_options = {'server': 'https://jira.zyfra.com'}\n",
        "jira = JIRA(options=jira_options, basic_auth=(jira_login, jira_pass))\n",
        "jql = '(summary ~ \"1????\" OR summary ~ \"2????\") AND status != Done AND status != Declined'\n",
        "#jql = '(summary ~ \"1????\" OR summary ~ \"2????\")'\n",
        "issues_list = jira.search_issues(jql,maxResults=1000) "
      ],
      "execution_count": 7,
      "outputs": []
    },
    {
      "cell_type": "code",
      "metadata": {
        "id": "cJAJh85FsTsO",
        "cellView": "form",
        "outputId": "94bbcb4b-bcb5-424b-aaf5-b54518b2fcfd",
        "colab": {
          "base_uri": "https://localhost:8080/",
          "height": 34
        }
      },
      "source": [
        "#@title [to_html] Получить последний комментарий по всем тикетам, не старше введённого количества дней\n",
        "\n",
        "filename = 'jiraReport' + datetime.now().ctime() + '.html'\n",
        "\n",
        "filename = filename.replace(' ', '_')\n",
        "filename = filename.replace(':', '')\n",
        "\n",
        "f = open(filename, 'w')\n",
        "\n",
        "stringBefore = []\n",
        "\n",
        "stringBefore.append(\"<!DOCTYPE html>\")\n",
        "stringBefore.append(\"<html lang=\\\"ru\\\">\")\n",
        "\n",
        "stringBefore.append(\"<head>\")\n",
        "stringBefore.append(\"    <title>Выгрузка последних комментариев из Джиры</title>\")\n",
        "stringBefore.append(\"    <meta charset=\\\"utf-8\\\">\")\n",
        "stringBefore.append(\"    <meta name=\\\"viewport\\\" content=\\\"width=device-width, initial-scale=1.0\\\">\")\n",
        "stringBefore.append(\"\t   <style>\")\n",
        "stringBefore.append(\"   h2 { text-align: center; font-family: Verdana, Arial, Helvetica, sans-serif; color: #336; }\")\n",
        "stringBefore.append(\"   h3 { text-align: center; font-family: Verdana, Arial, Helvetica, sans-serif; color: blue; }\")\n",
        "stringBefore.append(\"   p { color: green; }\")\n",
        "stringBefore.append(\"\t</style>\")\n",
        "stringBefore.append(\"</head> \")\n",
        "\n",
        "stringBefore.append(\"<body>\")\n",
        "stringBefore.append(\"\t\t\t<h2>Последние комментарии</h2>\")\n",
        "stringBefore.append('\\n')\n",
        "stringBefore.append(\"    <section id=\\\"docs\\\" style=\\\"margin: 5%;\\\">\")\n",
        "\n",
        "stringAfter = []\n",
        "\n",
        "stringAfter.append(\"    </section>\")\n",
        "stringAfter.append(\"</body>\")\n",
        "stringAfter.append(\"</html> \")\n",
        "\n",
        "\n",
        "\n",
        "for line in stringBefore:\n",
        "  f.write(line)\n",
        "  f.write('\\n')\n",
        "\n",
        "for i in issues_list:\n",
        "  issue = jira.issue(str(i))\n",
        "  if 'VISTHELP2' in str(issue):\n",
        "    if len(issue.fields.comment.comments) != 0:\n",
        "      lastcomment = issue.fields.comment.comments[-1]\n",
        "      if dateutil.parser.isoparse(lastcomment.created) > utc.localize(datetime.today() - delta):\n",
        "        f.write(\"\t\t<div>\")\n",
        "        f.write('\\n')\n",
        "        f.write(\"\t\t\t<div>\")\n",
        "        f.write('\\n')\n",
        "        f.write(\"\t\t\t\t<h3><a href=\\\"\" + \"https://jira.zyfra.com/browse/\" + str(issue) + \"\\\" target=\\\"new\\\">\" + issue.fields.summary + \"</a></h3>\")\n",
        "        f.write('\\n')\n",
        "        f.write(\"\t\t\t\t<p>\" + dateutil.parser.isoparse(lastcomment.created).ctime() + \"</p>\")\n",
        "        f.write('\\n')\n",
        "        f.write(\"\t\t\t\t<p>\" + lastcomment.author.displayName + \"</p>\")\n",
        "        f.write('\\n')\n",
        "        f.write(\"\t\t\t\t<p>\" + lastcomment.body + \"</p>\")\n",
        "        f.write('\\n')\n",
        "        f.write('='*100)\n",
        "        f.write('\\n')\n",
        "\n",
        "for line in stringAfter:\n",
        "  f.write(line)\n",
        "  f.write('\\n')\n",
        "\n",
        "f.close()\n",
        "print(filename)\n",
        "files.download(filename)"
      ],
      "execution_count": 10,
      "outputs": [
        {
          "output_type": "stream",
          "text": [
            "jiraReportWed_Oct_14_050907_2020.html\n"
          ],
          "name": "stdout"
        },
        {
          "output_type": "display_data",
          "data": {
            "application/javascript": [
              "\n",
              "    async function download(id, filename, size) {\n",
              "      if (!google.colab.kernel.accessAllowed) {\n",
              "        return;\n",
              "      }\n",
              "      const div = document.createElement('div');\n",
              "      const label = document.createElement('label');\n",
              "      label.textContent = `Downloading \"${filename}\": `;\n",
              "      div.appendChild(label);\n",
              "      const progress = document.createElement('progress');\n",
              "      progress.max = size;\n",
              "      div.appendChild(progress);\n",
              "      document.body.appendChild(div);\n",
              "\n",
              "      const buffers = [];\n",
              "      let downloaded = 0;\n",
              "\n",
              "      const channel = await google.colab.kernel.comms.open(id);\n",
              "      // Send a message to notify the kernel that we're ready.\n",
              "      channel.send({})\n",
              "\n",
              "      for await (const message of channel.messages) {\n",
              "        // Send a message to notify the kernel that we're ready.\n",
              "        channel.send({})\n",
              "        if (message.buffers) {\n",
              "          for (const buffer of message.buffers) {\n",
              "            buffers.push(buffer);\n",
              "            downloaded += buffer.byteLength;\n",
              "            progress.value = downloaded;\n",
              "          }\n",
              "        }\n",
              "      }\n",
              "      const blob = new Blob(buffers, {type: 'application/binary'});\n",
              "      const a = document.createElement('a');\n",
              "      a.href = window.URL.createObjectURL(blob);\n",
              "      a.download = filename;\n",
              "      div.appendChild(a);\n",
              "      a.click();\n",
              "      div.remove();\n",
              "    }\n",
              "  "
            ],
            "text/plain": [
              "<IPython.core.display.Javascript object>"
            ]
          },
          "metadata": {
            "tags": []
          }
        },
        {
          "output_type": "display_data",
          "data": {
            "application/javascript": [
              "download(\"download_23314b3d-9839-4063-8529-1310299c9532\", \"jiraReportWed_Oct_14_050907_2020.html\", 2411)"
            ],
            "text/plain": [
              "<IPython.core.display.Javascript object>"
            ]
          },
          "metadata": {
            "tags": []
          }
        }
      ]
    },
    {
      "cell_type": "code",
      "metadata": {
        "id": "A5kTUTcmj1yO",
        "outputId": "75219dfa-918b-45ef-eb38-a4cdecce4f81",
        "colab": {
          "base_uri": "https://localhost:8080/",
          "height": 265
        }
      },
      "source": [
        "for i in issues_list:\n",
        "  issue = jira.issue(str(i))\n",
        "  if 'VISTHELP' in str(issue):\n",
        "    print(issue)\n",
        "    print(issue.fields.creator)\n",
        "    for field in issue.fields:\n",
        "      print(type(field))\n",
        "    \n",
        "    break\n",
        "\n",
        "\n",
        "  #if 'VISTV8' in str(issue):\n",
        "    #if len(issue.fields.comment.comments) != 0:\n",
        "    #  for comment in issue.fields.comment.comments:\n",
        "    #    if 'idletype' in comment.body:\n",
        "    #      print(issue)\n",
        "    #      print(comment.body)\n",
        "      #lastcomment = issue.fields.comment.comments[-1]\n",
        "      #print(lastcomment.author.displayName)\n",
        "      #if dateutil.parser.isoparse(lastcomment.created) > utc.localize(datetime.today() - delta):\n",
        "        "
      ],
      "execution_count": 15,
      "outputs": [
        {
          "output_type": "stream",
          "text": [
            "VISTHELP2-2067\n",
            "Anton Nagovitsin\n"
          ],
          "name": "stdout"
        },
        {
          "output_type": "error",
          "ename": "TypeError",
          "evalue": "ignored",
          "traceback": [
            "\u001b[0;31m---------------------------------------------------------------------------\u001b[0m",
            "\u001b[0;31mTypeError\u001b[0m                                 Traceback (most recent call last)",
            "\u001b[0;32m<ipython-input-15-8fb5a03babc0>\u001b[0m in \u001b[0;36m<module>\u001b[0;34m()\u001b[0m\n\u001b[1;32m      4\u001b[0m     \u001b[0mprint\u001b[0m\u001b[0;34m(\u001b[0m\u001b[0missue\u001b[0m\u001b[0;34m)\u001b[0m\u001b[0;34m\u001b[0m\u001b[0;34m\u001b[0m\u001b[0m\n\u001b[1;32m      5\u001b[0m     \u001b[0mprint\u001b[0m\u001b[0;34m(\u001b[0m\u001b[0missue\u001b[0m\u001b[0;34m.\u001b[0m\u001b[0mfields\u001b[0m\u001b[0;34m.\u001b[0m\u001b[0mcreator\u001b[0m\u001b[0;34m)\u001b[0m\u001b[0;34m\u001b[0m\u001b[0;34m\u001b[0m\u001b[0m\n\u001b[0;32m----> 6\u001b[0;31m     \u001b[0;32mfor\u001b[0m \u001b[0mfield\u001b[0m \u001b[0;32min\u001b[0m \u001b[0missue\u001b[0m\u001b[0;34m.\u001b[0m\u001b[0mfields\u001b[0m\u001b[0;34m(\u001b[0m\u001b[0;34m)\u001b[0m\u001b[0;34m:\u001b[0m\u001b[0;34m\u001b[0m\u001b[0;34m\u001b[0m\u001b[0m\n\u001b[0m\u001b[1;32m      7\u001b[0m       \u001b[0mprint\u001b[0m\u001b[0;34m(\u001b[0m\u001b[0mtype\u001b[0m\u001b[0;34m(\u001b[0m\u001b[0mfield\u001b[0m\u001b[0;34m)\u001b[0m\u001b[0;34m)\u001b[0m\u001b[0;34m\u001b[0m\u001b[0;34m\u001b[0m\u001b[0m\n\u001b[1;32m      8\u001b[0m \u001b[0;34m\u001b[0m\u001b[0m\n",
            "\u001b[0;31mTypeError\u001b[0m: 'PropertyHolder' object is not iterable"
          ]
        }
      ]
    },
    {
      "cell_type": "code",
      "metadata": {
        "cellView": "form",
        "id": "WSeLZoNyjcQv",
        "outputId": "a77455a9-0c63-4217-cdd5-f4175ef9fb1f",
        "colab": {
          "base_uri": "https://localhost:8080/"
        }
      },
      "source": [
        "#@title [to_html] Все комменты от пользователя\n",
        "\n",
        "#@markdown Введите имя и фамилию пользователя, как в Джире\n",
        "\n",
        "username = 'Dmitriy Protasov' #@param {type: \"string\"}\n",
        "\n",
        "filename = 'jiraReport' + datetime.now().ctime() + '.html'\n",
        "\n",
        "filename = filename.replace(' ', '_')\n",
        "filename = filename.replace(':', '')\n",
        "\n",
        "f = open(filename, 'w')\n",
        "\n",
        "stringBefore = []\n",
        "\n",
        "stringBefore.append(\"<!DOCTYPE html>\")\n",
        "stringBefore.append(\"<html lang=\\\"ru\\\">\")\n",
        "\n",
        "stringBefore.append(\"<head>\")\n",
        "stringBefore.append(\"    <title>Выгрузка комментариев от Вовы из Джиры</title>\")\n",
        "stringBefore.append(\"    <meta charset=\\\"utf-8\\\">\")\n",
        "stringBefore.append(\"    <meta name=\\\"viewport\\\" content=\\\"width=device-width, initial-scale=1.0\\\">\")\n",
        "stringBefore.append(\"\t   <style>\")\n",
        "stringBefore.append(\"   h2 { text-align: center; font-family: Verdana, Arial, Helvetica, sans-serif; color: #336; }\")\n",
        "stringBefore.append(\"   h3 { text-align: center; font-family: Verdana, Arial, Helvetica, sans-serif; color: blue; }\")\n",
        "stringBefore.append(\"   p { color: green; }\")\n",
        "stringBefore.append(\"\t</style>\")\n",
        "stringBefore.append(\"</head> \")\n",
        "\n",
        "stringBefore.append(\"<body>\")\n",
        "stringBefore.append(\"\t\t\t<h2>Последние комментарии</h2>\")\n",
        "stringBefore.append('\\n')\n",
        "stringBefore.append(\"    <section id=\\\"docs\\\" style=\\\"margin: 5%;\\\">\")\n",
        "\n",
        "stringAfter = []\n",
        "\n",
        "stringAfter.append(\"    </section>\")\n",
        "stringAfter.append(\"</body>\")\n",
        "stringAfter.append(\"</html> \")\n",
        "\n",
        "\n",
        "\n",
        "for line in stringBefore:\n",
        "  f.write(line)\n",
        "  f.write('\\n')\n",
        "\n",
        "#hw = True\n",
        "\n",
        "for i in issues_list:\n",
        "  issue = jira.issue(str(i))\n",
        "  #if 'VISTHELP2' in str(issue):\n",
        "  if len(issue.fields.comment.comments) != 0:\n",
        "#    hw = True\n",
        "    for comment in issue.fields.comment.comments:\n",
        "      if comment.author.displayName == username:\n",
        "        #print(comment.body)\n",
        "        f.write(\"\t\t<div>\")\n",
        "        f.write('\\n')\n",
        "        f.write(\"\t\t\t<div>\")\n",
        "        f.write('\\n')\n",
        "#        if hw:\n",
        "        f.write(\"\t\t\t\t<h3><a href=\\\"\" + \"https://jira.zyfra.com/browse/\" + str(issue) + \"\\\" target=\\\"new\\\">\" + issue.fields.summary + \"</a></h3>\")\n",
        "        f.write('\\n')\n",
        "        f.write(\"\t\t\t\t<p>\" + dateutil.parser.isoparse(comment.created).ctime() + \"</p>\")\n",
        "        f.write('\\n')\n",
        "        f.write(\"\t\t\t\t<p>\" + comment.author.displayName + \"</p>\")\n",
        "        f.write('\\n')\n",
        "        f.write(\"\t\t\t\t<p>\" + comment.body + \"</p>\")\n",
        "        f.write('\\n')\n",
        "        f.write('='*100)\n",
        "        f.write('\\n')\n",
        "#        hw = False\n",
        "\n",
        "\n",
        "\n",
        "\n",
        "for line in stringAfter:\n",
        "  f.write(line)\n",
        "  f.write('\\n')\n",
        "\n",
        "f.close()\n",
        "print(filename)\n",
        "files.download(filename)"
      ],
      "execution_count": null,
      "outputs": [
        {
          "output_type": "stream",
          "text": [
            "jiraReportWed_Aug_19_135935_2020.html\n"
          ],
          "name": "stdout"
        },
        {
          "output_type": "display_data",
          "data": {
            "application/javascript": [
              "\n",
              "    async function download(id, filename, size) {\n",
              "      if (!google.colab.kernel.accessAllowed) {\n",
              "        return;\n",
              "      }\n",
              "      const div = document.createElement('div');\n",
              "      const label = document.createElement('label');\n",
              "      label.textContent = `Downloading \"${filename}\": `;\n",
              "      div.appendChild(label);\n",
              "      const progress = document.createElement('progress');\n",
              "      progress.max = size;\n",
              "      div.appendChild(progress);\n",
              "      document.body.appendChild(div);\n",
              "\n",
              "      const buffers = [];\n",
              "      let downloaded = 0;\n",
              "\n",
              "      const channel = await google.colab.kernel.comms.open(id);\n",
              "      // Send a message to notify the kernel that we're ready.\n",
              "      channel.send({})\n",
              "\n",
              "      for await (const message of channel.messages) {\n",
              "        // Send a message to notify the kernel that we're ready.\n",
              "        channel.send({})\n",
              "        if (message.buffers) {\n",
              "          for (const buffer of message.buffers) {\n",
              "            buffers.push(buffer);\n",
              "            downloaded += buffer.byteLength;\n",
              "            progress.value = downloaded;\n",
              "          }\n",
              "        }\n",
              "      }\n",
              "      const blob = new Blob(buffers, {type: 'application/binary'});\n",
              "      const a = document.createElement('a');\n",
              "      a.href = window.URL.createObjectURL(blob);\n",
              "      a.download = filename;\n",
              "      div.appendChild(a);\n",
              "      a.click();\n",
              "      div.remove();\n",
              "    }\n",
              "  "
            ],
            "text/plain": [
              "<IPython.core.display.Javascript object>"
            ]
          },
          "metadata": {
            "tags": []
          }
        },
        {
          "output_type": "display_data",
          "data": {
            "application/javascript": [
              "download(\"download_d75027f0-a283-4c7a-b5cb-47c5d1370538\", \"jiraReportWed_Aug_19_135935_2020.html\", 37858)"
            ],
            "text/plain": [
              "<IPython.core.display.Javascript object>"
            ]
          },
          "metadata": {
            "tags": []
          }
        }
      ]
    },
    {
      "cell_type": "code",
      "metadata": {
        "id": "QEIVccOmjcxt"
      },
      "source": [
        ""
      ],
      "execution_count": null,
      "outputs": []
    },
    {
      "cell_type": "code",
      "metadata": {
        "id": "1mzzWziQVnT_",
        "cellView": "form",
        "outputId": "9950a55e-d268-4306-c8d1-97da27b8d340",
        "colab": {
          "base_uri": "https://localhost:8080/",
          "height": 34
        }
      },
      "source": [
        "#@title Получить последний комментарий по всем тикетам, не старше введённого количества дней\n",
        "\n",
        "filename = 'jiraReport' + datetime.now().ctime() + '.txt'\n",
        "\n",
        "filename = filename.replace(' ', '_')\n",
        "filename = filename.replace(':', '')\n",
        "\n",
        "f = open(filename, 'w')\n",
        "\n",
        "for i in issues_list:\n",
        "  issue = jira.issue(str(i))\n",
        "  if 'VISTHELP2' in str(issue):\n",
        "    if len(issue.fields.comment.comments) != 0:\n",
        "      lastcomment = issue.fields.comment.comments[-1]\n",
        "      if dateutil.parser.isoparse(lastcomment.created) > utc.localize(datetime.today() - delta):\n",
        "        f.write('\\n')\n",
        "        f.write(str(issue))\n",
        "        f.write('\\n')\n",
        "        f.write('https://jira.zyfra.com/browse/' + str(issue))\n",
        "        f.write('\\n')\n",
        "        f.write('-'*10)\n",
        "        f.write('\\n')\n",
        "        f.write(issue.fields.summary)\n",
        "        f.write('\\n')\n",
        "        f.write('-'*30)\n",
        "        f.write('\\n')\n",
        "        f.write(dateutil.parser.isoparse(lastcomment.created).ctime())\n",
        "        f.write('\\n')\n",
        "        f.write('-'*60)\n",
        "        f.write('\\n')\n",
        "        f.write(lastcomment.author.displayName)\n",
        "        f.write('\\n')\n",
        "        f.write('-'*90)\n",
        "        f.write('\\n')\n",
        "        f.write(lastcomment.body)\n",
        "        f.write('\\n')\n",
        "        f.write('='*100)\n",
        "        f.write('\\n')\n",
        "        f.write('='*100)\n",
        "        f.write('\\n')\n",
        "        f.write('\\n')\n",
        "\n",
        "\n",
        "f.close()\n",
        "print(filename)\n",
        "files.download(filename)"
      ],
      "execution_count": null,
      "outputs": [
        {
          "output_type": "stream",
          "text": [
            "jiraReportThu_Jun_25_163722_2020.txt\n"
          ],
          "name": "stdout"
        },
        {
          "output_type": "display_data",
          "data": {
            "application/javascript": [
              "\n",
              "    async function download(id, filename, size) {\n",
              "      if (!google.colab.kernel.accessAllowed) {\n",
              "        return;\n",
              "      }\n",
              "      const div = document.createElement('div');\n",
              "      const label = document.createElement('label');\n",
              "      label.textContent = `Downloading \"${filename}\": `;\n",
              "      div.appendChild(label);\n",
              "      const progress = document.createElement('progress');\n",
              "      progress.max = size;\n",
              "      div.appendChild(progress);\n",
              "      document.body.appendChild(div);\n",
              "\n",
              "      const buffers = [];\n",
              "      let downloaded = 0;\n",
              "\n",
              "      const channel = await google.colab.kernel.comms.open(id);\n",
              "      // Send a message to notify the kernel that we're ready.\n",
              "      channel.send({})\n",
              "\n",
              "      for await (const message of channel.messages) {\n",
              "        // Send a message to notify the kernel that we're ready.\n",
              "        channel.send({})\n",
              "        if (message.buffers) {\n",
              "          for (const buffer of message.buffers) {\n",
              "            buffers.push(buffer);\n",
              "            downloaded += buffer.byteLength;\n",
              "            progress.value = downloaded;\n",
              "          }\n",
              "        }\n",
              "      }\n",
              "      const blob = new Blob(buffers, {type: 'application/binary'});\n",
              "      const a = document.createElement('a');\n",
              "      a.href = window.URL.createObjectURL(blob);\n",
              "      a.download = filename;\n",
              "      div.appendChild(a);\n",
              "      a.click();\n",
              "      div.remove();\n",
              "    }\n",
              "  "
            ],
            "text/plain": [
              "<IPython.core.display.Javascript object>"
            ]
          },
          "metadata": {
            "tags": []
          }
        },
        {
          "output_type": "display_data",
          "data": {
            "application/javascript": [
              "download(\"download_4eccb133-14b0-4869-9bc2-b834e588d599\", \"jiraReportThu_Jun_25_163722_2020.txt\", 16367)"
            ],
            "text/plain": [
              "<IPython.core.display.Javascript object>"
            ]
          },
          "metadata": {
            "tags": []
          }
        }
      ]
    },
    {
      "cell_type": "code",
      "metadata": {
        "id": "CrZKO5ocxj03",
        "cellView": "both",
        "outputId": "2a5f45bd-7ecf-4dfe-972b-f47d6a82a945",
        "colab": {
          "base_uri": "https://localhost:8080/",
          "height": 34
        }
      },
      "source": [
        "#@title Получить последний комментарий по всем тикетам, не старше введённого количества дней, не принадлежащий сотруднику ТП\n",
        "\n",
        "filename = 'TP_jiraReport' + datetime.now().ctime() + '.txt'\n",
        "\n",
        "filename = filename.replace(' ', '_')\n",
        "filename = filename.replace(':', '')\n",
        "\n",
        "tpNamesList = ['Anton Nagovitsin','Aleksey Polyakov','Pavel Khromov','Sergey Kondratyev','Anton Mulenkov','Yuriy.Likhanov']\n",
        "\n",
        "f = open(filename, 'w')\n",
        "\n",
        "for i in issues_list:\n",
        "  issue = jira.issue(str(i))\n",
        "  if 'VISTHELP2' in str(issue):\n",
        "    if len(issue.fields.comment.comments) != 0:\n",
        "      lastcomment = issue.fields.comment.comments[-1]\n",
        "      if lastcomment.author.displayName not in tpNamesList:\n",
        "        if dateutil.parser.isoparse(lastcomment.created) > utc.localize(datetime.today() - delta):\n",
        "          f.write('\\n')\n",
        "          f.write(str(issue))\n",
        "          f.write('\\n')\n",
        "          f.write('https://jira.zyfra.com/browse/' + str(issue))\n",
        "          f.write('\\n')\n",
        "          f.write('-'*10)\n",
        "          f.write('\\n')\n",
        "          f.write(issue.fields.summary)\n",
        "          f.write('\\n')\n",
        "          f.write('-'*30)\n",
        "          f.write('\\n')\n",
        "          f.write(dateutil.parser.isoparse(lastcomment.created).ctime())\n",
        "          f.write('\\n')\n",
        "          f.write('-'*60)\n",
        "          f.write('\\n')\n",
        "          f.write(lastcomment.author.displayName)\n",
        "          f.write('\\n')\n",
        "          f.write('-'*90)\n",
        "          f.write('\\n')\n",
        "          f.write(lastcomment.body)\n",
        "          f.write('\\n')\n",
        "          f.write('='*100)\n",
        "          f.write('\\n')\n",
        "          f.write('='*100)\n",
        "          f.write('\\n')\n",
        "          f.write('\\n')\n",
        "\n",
        "\n",
        "f.close()\n",
        "print(filename)\n",
        "files.download(filename)"
      ],
      "execution_count": null,
      "outputs": [
        {
          "output_type": "stream",
          "text": [
            "TP_jiraReportFri_Aug_21_112600_2020.txt\n"
          ],
          "name": "stdout"
        },
        {
          "output_type": "display_data",
          "data": {
            "application/javascript": [
              "\n",
              "    async function download(id, filename, size) {\n",
              "      if (!google.colab.kernel.accessAllowed) {\n",
              "        return;\n",
              "      }\n",
              "      const div = document.createElement('div');\n",
              "      const label = document.createElement('label');\n",
              "      label.textContent = `Downloading \"${filename}\": `;\n",
              "      div.appendChild(label);\n",
              "      const progress = document.createElement('progress');\n",
              "      progress.max = size;\n",
              "      div.appendChild(progress);\n",
              "      document.body.appendChild(div);\n",
              "\n",
              "      const buffers = [];\n",
              "      let downloaded = 0;\n",
              "\n",
              "      const channel = await google.colab.kernel.comms.open(id);\n",
              "      // Send a message to notify the kernel that we're ready.\n",
              "      channel.send({})\n",
              "\n",
              "      for await (const message of channel.messages) {\n",
              "        // Send a message to notify the kernel that we're ready.\n",
              "        channel.send({})\n",
              "        if (message.buffers) {\n",
              "          for (const buffer of message.buffers) {\n",
              "            buffers.push(buffer);\n",
              "            downloaded += buffer.byteLength;\n",
              "            progress.value = downloaded;\n",
              "          }\n",
              "        }\n",
              "      }\n",
              "      const blob = new Blob(buffers, {type: 'application/binary'});\n",
              "      const a = document.createElement('a');\n",
              "      a.href = window.URL.createObjectURL(blob);\n",
              "      a.download = filename;\n",
              "      div.appendChild(a);\n",
              "      a.click();\n",
              "      div.remove();\n",
              "    }\n",
              "  "
            ],
            "text/plain": [
              "<IPython.core.display.Javascript object>"
            ]
          },
          "metadata": {
            "tags": []
          }
        },
        {
          "output_type": "display_data",
          "data": {
            "application/javascript": [
              "download(\"download_43890be4-60b5-4b61-ba5f-0d2bea70a0c1\", \"TP_jiraReportFri_Aug_21_112600_2020.txt\", 67870)"
            ],
            "text/plain": [
              "<IPython.core.display.Javascript object>"
            ]
          },
          "metadata": {
            "tags": []
          }
        }
      ]
    },
    {
      "cell_type": "code",
      "metadata": {
        "id": "uZ_ge9tAyMtn",
        "outputId": "450fccae-a086-46ed-8b82-3f140a6dc5ff",
        "colab": {
          "base_uri": "https://localhost:8080/",
          "height": 34
        }
      },
      "source": [
        "filename = 'jiraReport' + datetime.now().ctime() + '.html'\n",
        "\n",
        "filename = filename.replace(' ', '_')\n",
        "filename = filename.replace(':', '')\n",
        "\n",
        "f = open(filename, 'w')\n",
        "\n",
        "stringBefore = []\n",
        "\n",
        "stringBefore.append(\"<!DOCTYPE html>\")\n",
        "stringBefore.append(\"<html lang=\\\"ru\\\">\")\n",
        "\n",
        "stringBefore.append(\"<head>\")\n",
        "stringBefore.append(\"    <title>Выгрузка последних комментариев из Джиры</title>\")\n",
        "stringBefore.append(\"    <meta charset=\\\"utf-8\\\">\")\n",
        "stringBefore.append(\"    <meta name=\\\"viewport\\\" content=\\\"width=device-width, initial-scale=1.0\\\">\")\n",
        "stringBefore.append(\"\t   <style>\")\n",
        "stringBefore.append(\"   h2 { text-align: center; font-family: Verdana, Arial, Helvetica, sans-serif; color: #336; }\")\n",
        "stringBefore.append(\"   h3 { text-align: center; font-family: Verdana, Arial, Helvetica, sans-serif; color: blue; }\")\n",
        "stringBefore.append(\"   p { color: green; }\")\n",
        "stringBefore.append(\"\t</style>\")\n",
        "stringBefore.append(\"</head> \")\n",
        "\n",
        "stringBefore.append(\"<body>\")\n",
        "stringBefore.append(\"\t\t\t<h2>Последние комментарии</h2>\")\n",
        "stringBefore.append('\\n')\n",
        "stringBefore.append(\"    <section id=\\\"docs\\\" style=\\\"margin: 5%;\\\">\")\n",
        "\n",
        "stringAfter = []\n",
        "\n",
        "stringAfter.append(\"    </section>\")\n",
        "stringAfter.append(\"</body>\")\n",
        "stringAfter.append(\"</html> \")\n",
        "\n",
        "\n",
        "\n",
        "for line in stringBefore:\n",
        "  f.write(line)\n",
        "  f.write('\\n')\n",
        "\n",
        "\n",
        "tpNamesList = ['Anton Nagovitsin','Aleksey Polyakov','Pavel Khromov','Sergey Kondratyev','Anton Mulenkov','Yuriy.Likhanov']\n",
        "\n",
        "f = open(filename, 'w')\n",
        "\n",
        "for i in issues_list:\n",
        "  issue = jira.issue(str(i))\n",
        "  if 'VISTHELP2' in str(issue):\n",
        "    if len(issue.fields.comment.comments) != 0:\n",
        "      lastcomment = issue.fields.comment.comments[-1]\n",
        "      if lastcomment.author.displayName not in tpNamesList:\n",
        "        if dateutil.parser.isoparse(lastcomment.created) > utc.localize(datetime.today() - delta):\n",
        "          f.write(\"\t\t<div>\")\n",
        "          f.write('\\n')\n",
        "          f.write(\"\t\t\t<div>\")\n",
        "          f.write('\\n')\n",
        "          f.write(\"\t\t\t\t<h3><a href=\\\"\" + \"https://jira.zyfra.com/browse/\" + str(issue) + \"\\\" target=\\\"new\\\">\" + issue.fields.summary + \"</a></h3>\")\n",
        "          f.write('\\n')\n",
        "          f.write(\"\t\t\t\t<p>\" + dateutil.parser.isoparse(lastcomment.created).ctime() + \"</p>\")\n",
        "          f.write('\\n')\n",
        "          f.write(\"\t\t\t\t<p>\" + issue.fields.summary + \"</p>\")\n",
        "          f.write('\\n')\n",
        "          f.write(\"\t\t\t\t<p>\" + lastcomment.author.displayName + \"</p>\")\n",
        "          f.write('\\n')\n",
        "          f.write(\"\t\t\t\t<p>\" + lastcomment.body + \"</p>\")\n",
        "          f.write('\\n')\n",
        "          f.write('='*100)\n",
        "          f.write('\\n')\n",
        "\n",
        "\n",
        "for line in stringAfter:\n",
        "  f.write(line)\n",
        "  f.write('\\n')\n",
        "\n",
        "f.close()\n",
        "print(filename)\n",
        "files.download(filename)"
      ],
      "execution_count": null,
      "outputs": [
        {
          "output_type": "stream",
          "text": [
            "jiraReportFri_Aug_21_113450_2020.html\n"
          ],
          "name": "stdout"
        },
        {
          "output_type": "display_data",
          "data": {
            "application/javascript": [
              "\n",
              "    async function download(id, filename, size) {\n",
              "      if (!google.colab.kernel.accessAllowed) {\n",
              "        return;\n",
              "      }\n",
              "      const div = document.createElement('div');\n",
              "      const label = document.createElement('label');\n",
              "      label.textContent = `Downloading \"${filename}\": `;\n",
              "      div.appendChild(label);\n",
              "      const progress = document.createElement('progress');\n",
              "      progress.max = size;\n",
              "      div.appendChild(progress);\n",
              "      document.body.appendChild(div);\n",
              "\n",
              "      const buffers = [];\n",
              "      let downloaded = 0;\n",
              "\n",
              "      const channel = await google.colab.kernel.comms.open(id);\n",
              "      // Send a message to notify the kernel that we're ready.\n",
              "      channel.send({})\n",
              "\n",
              "      for await (const message of channel.messages) {\n",
              "        // Send a message to notify the kernel that we're ready.\n",
              "        channel.send({})\n",
              "        if (message.buffers) {\n",
              "          for (const buffer of message.buffers) {\n",
              "            buffers.push(buffer);\n",
              "            downloaded += buffer.byteLength;\n",
              "            progress.value = downloaded;\n",
              "          }\n",
              "        }\n",
              "      }\n",
              "      const blob = new Blob(buffers, {type: 'application/binary'});\n",
              "      const a = document.createElement('a');\n",
              "      a.href = window.URL.createObjectURL(blob);\n",
              "      a.download = filename;\n",
              "      div.appendChild(a);\n",
              "      a.click();\n",
              "      div.remove();\n",
              "    }\n",
              "  "
            ],
            "text/plain": [
              "<IPython.core.display.Javascript object>"
            ]
          },
          "metadata": {
            "tags": []
          }
        },
        {
          "output_type": "display_data",
          "data": {
            "application/javascript": [
              "download(\"download_c1674f36-a8d3-40f1-a791-cc3d8fc29091\", \"jiraReportFri_Aug_21_113450_2020.html\", 58683)"
            ],
            "text/plain": [
              "<IPython.core.display.Javascript object>"
            ]
          },
          "metadata": {
            "tags": []
          }
        }
      ]
    },
    {
      "cell_type": "code",
      "metadata": {
        "id": "ObNhEytk9rZ9",
        "cellView": "form"
      },
      "source": [
        "#@title [-] Получить комментарии тикетов 1\n",
        "for i in issues_list:\n",
        "  issue = jira.issue(str(i))\n",
        "  #print('Тикет ',issue)\n",
        "  allcomments = issue.fields.comment.comments\n",
        "  for comment in allcomments:\n",
        "    commentTimeISO = dateutil.parser.isoparse(comment.created)\n",
        "    if commentTimeISO > utc.localize(datetime.today() - delta):\n",
        "      commentTime = commentTimeISO.ctime()\n",
        "      print(issue.fields.summary)\n",
        "      print(commentTimeISO)\n",
        "      print(comment.author.displayName)\n",
        "      print(comment.body)"
      ],
      "execution_count": null,
      "outputs": []
    },
    {
      "cell_type": "code",
      "metadata": {
        "id": "xiikBVuNfBeq"
      },
      "source": [
        "for issue in issues_list:\n",
        "  print(str(issue))"
      ],
      "execution_count": null,
      "outputs": []
    }
  ]
}