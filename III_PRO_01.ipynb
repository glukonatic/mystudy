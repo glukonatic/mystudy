{
  "nbformat": 4,
  "nbformat_minor": 0,
  "metadata": {
    "colab": {
      "name": "III.PRO_01.ipynb",
      "provenance": [],
      "collapsed_sections": [
        "Mkb8TdpmFN6O",
        "vbEb83sXFUD3"
      ],
      "authorship_tag": "ABX9TyP6HlDnNUYQ24gt3EfYPPa7",
      "include_colab_link": true
    },
    "kernelspec": {
      "name": "python3",
      "display_name": "Python 3"
    },
    "accelerator": "TPU"
  },
  "cells": [
    {
      "cell_type": "markdown",
      "metadata": {
        "id": "view-in-github",
        "colab_type": "text"
      },
      "source": [
        "<a href=\"https://colab.research.google.com/github/glukonatic/mystudy/blob/master/III_PRO_01.ipynb\" target=\"_parent\"><img src=\"https://colab.research.google.com/assets/colab-badge.svg\" alt=\"Open In Colab\"/></a>"
      ]
    },
    {
      "cell_type": "markdown",
      "metadata": {
        "id": "2rlzaRJRAjQC",
        "colab_type": "text"
      },
      "source": [
        "# Домашнее задание №1\n",
        "## студента Университета искусственного интеллекта\n",
        "## Наговицына Антона Михайловича\n",
        "### Поток PRO НС - апрель 2020 (основной тариф).\n",
        "![alt Nagovitsyn_Anton](https://proza.ru/photos/glukonatic.jpg)"
      ]
    },
    {
      "cell_type": "markdown",
      "metadata": {
        "id": "UO5ksSc3Dibj",
        "colab_type": "text"
      },
      "source": [
        "# Light. Вариант 1\n"
      ]
    },
    {
      "cell_type": "markdown",
      "metadata": {
        "id": "i3xUpSuTHaxI",
        "colab_type": "text"
      },
      "source": [
        "\n",
        "\n",
        "---\n",
        "\n",
        "\n",
        "Перепишите ноутбук по распознаванию рукописных цифр, восстановив следующие операции:\n",
        "1.   Импорт библиотек.\n",
        "2.   Загрузка базы mnist.\n",
        "3.   Нормирование и преобразование x_train и y_train.\n",
        "4.   Создание нейронной сети.\n",
        "5.   Обучение нейронной сети.\n",
        "\n",
        "Можно смотреть в ноутбук с занятия, но код необходимо писать самостоятельно.\n",
        "\n",
        "\n",
        "---\n",
        "\n"
      ]
    },
    {
      "cell_type": "code",
      "metadata": {
        "id": "S0hbQJesIUhl",
        "colab_type": "code",
        "cellView": "both",
        "colab": {}
      },
      "source": [
        "#@title 1. Импорт библиотек (и определение глобальных переменных и функций, необходимых для экспериментов)\n",
        "\n",
        "from tensorflow.keras.datasets import mnist\n",
        "from tensorflow.keras.models import Sequential\n",
        "from tensorflow.keras.layers import Dense\n",
        "from tensorflow.keras.optimizers import Adam\n",
        "from tensorflow.keras import utils\n",
        "from tensorflow.keras.preprocessing import image\n",
        "import numpy as np\n",
        "import pylab as pl\n",
        "import pandas as pd\n",
        "import collections\n",
        "import math\n",
        "from google.colab import files\n",
        "import matplotlib.pyplot as plt\n",
        "from PIL import Image, ImageFilter\n",
        "%matplotlib inline\n",
        "\n",
        "\n",
        "#@markdown Для построения модели можно указать число нейронов для входного (defNeyronsInput) и скрытого (defNeyronsHidden) слоёв. Для обучения - указать величину выборок defBatchSize, количество эпох defEpochs, параметром defVerbose можно установить отображение процесса обучения, и, наконец, можно изменить функцию активации, применяемую по умолчанию в слоях. Эти параметры - глобальные для всех блоков.\n",
        "\n",
        "defNeyronsInput = \"800\" #@param [160, 320, 480, 640, 800, 960] {allow-input: true}\n",
        "defNeyronsHidden = \"400\" #@param [160, 320, 480, 640, 800, 960] {allow-input: true}\n",
        "defBatchSize = 128 #@param [64, 128, 256, 512, 1024, 2048, 4096] {allow-input: true}\n",
        "defEpochs = 15 #@param [1, 2, 3, 4, 5, 6, 7, 8, 9, 10, 11, 12, 13 ,14, 15] {allow-input: true}\n",
        "defVerbose = 0 #@param [0, 1] {allow-input: false}\n",
        "defActivation = 'relu'  #@param ['relu', 'linear', 'tanh', 'elu', 'selu', 'sigmoid', 'hard_sigmoid', 'exponential']\n",
        "\n",
        "#@markdown ---\n",
        "\n",
        "\n",
        "# Определим глобальные функции для дальнейших экспериментов\n",
        "\n",
        "# Функция, выполняющая построение нейронной сети на основании переданных параметров-аргументов\n",
        "def runFit(numOfNeyronsInput=defNeyronsInput,numOfNeyronsHidden=defNeyronsHidden,\n",
        "           batchSize=defBatchSize,epochs=defEpochs,verbose=defVerbose,\n",
        "           activation=defActivation):\n",
        "  '''\n",
        "    Функция runFit, создающая модель, как на занятии, но с меньшим числом нейронов, \n",
        "    с определенным количеством нейронов в скрытом слое.\n",
        "    На вход принимает значения:\n",
        "    numOfNeyronsInput - целочисленное значение, число нейронов во входном слое;\n",
        "    numOfNeyronsHidden - целочисленное значение, число нейронов в скрытом слое;\n",
        "    batchSize - размер \"пачки\" примеров для обучения модели;\n",
        "    epochs - количество эпох для обучения модели;\n",
        "    verbose - флаг для вывода информации о компиляции модели, 0 или 1;\n",
        "    activation - активационная функция в одном из скрытых слоёв (во втором).\n",
        "    По умолчанию функция принимает дефолтные значения аргументов.\n",
        "    Функция возвращает объект history созданной модели.\n",
        "  '''\n",
        "  model = Sequential()\n",
        "  print('Новая пустая модель нейронной сети создана')\n",
        "  model.add(Dense(numOfNeyronsInput, input_dim=784, activation=activation))\n",
        "  print('Добавлен входной слой с количеством нейронов, равным ',numOfNeyronsInput,' и функцией активации ' + activation)\n",
        "  if numOfNeyronsHidden > 0 :\n",
        "    model.add(Dense(numOfNeyronsHidden, activation=activation))\n",
        "    print('Добавлен скрытый слой с количеством нейронов, равным ',numOfNeyronsHidden, ' и функцией активации ' + activation)\n",
        "  model.add(Dense(10, activation=\"softmax\"))\n",
        "  print('Добавлен выходной слой, модель компилируется...')\n",
        "  model.compile(loss=\"categorical_crossentropy\", optimizer=\"adam\", metrics=[\"accuracy\"])\n",
        "  print('Модель скомпилирована, её характеристики:')\n",
        "  model.summary()\n",
        "  print('Выполняется обучение модели, длиной в ' + str(epochs) + ' эпох и с числом обучающих примеров, равным ' + str(batchSize) + ', пожалуйста, подождите...')\n",
        "  return model.fit(x_train, y_train, batch_size=batchSize, epochs=epochs, verbose=verbose)\n",
        "\n",
        "\n",
        "\n",
        "\n",
        "# Функция, рисующая графики на основании полученных данных в экспериментах\n",
        "def runPlot(paramDict,experimentName):\n",
        "  '''\n",
        "    Функция runPlot, отрисовывающая графики по полученным в экспериментах данным\n",
        "    На вход принимает значения:\n",
        "    paramDict - словарь полученных в результате экспериментов данных\n",
        "    experimentName - определяет, какой эксперимент был проведён\n",
        "    Функция ничего не возвращает\n",
        "  '''\n",
        "\n",
        "  # Инициализируем графики, их у нас всегда по два - для точности и для потерь\n",
        "  f, (ax1, ax2) = plt.subplots(1, 2, figsize = (20,5))\n",
        "\n",
        "  # Сформируем кастомные заголовки для графиков\n",
        "  labels = []\n",
        "\n",
        "  # Перебираем словарь результатов экспериментов\n",
        "  for key, value in paramDict.items():\n",
        "    if experimentName == 'custom_neyrons':\n",
        "      labels.append(str(key) + ' нейронов')\n",
        "      f.suptitle('Графики для сравнения зависимости точности модели от числа нейронов')\n",
        "    if experimentName == 'custom_activation':\n",
        "      labels.append('Активационная функция ' + key)\n",
        "      f.suptitle('Графики для сравнения зависимости точности модели от выбранной активационной функции в сравнении с \\'relu\\'')\n",
        "    if experimentName == 'custom_batchsize':\n",
        "      labels.append('batch_size = ' + str(key))\n",
        "      f.suptitle('Графики для сравнения зависимости точности модели от batch_size')\n",
        "    ax1.plot(value.history['loss'])\n",
        "    ax2.plot(value.history['accuracy'])\n",
        "\n",
        "  # Разметим графики подписями осей, заголовками и легендой\n",
        "  ax1.set_title('Потери моделей')\n",
        "  ax1.set_ylabel('Потери')\n",
        "  ax1.set_xlabel('Эпохи')\n",
        "  ax1.grid(color='g', linestyle=':', linewidth=1)\n",
        "  ax1.legend(labels, loc='upper right')\n",
        "  ax2.set_title('Точность моделей')\n",
        "  ax2.set_ylabel('Точность')\n",
        "  ax2.set_xlabel('Эпохи')\n",
        "  ax2.grid(color='g', linestyle=':', linewidth=1)\n",
        "  ax2.legend(labels, loc='lower right')\n",
        "\n",
        "\n",
        "\n",
        "\n",
        "# Функция, помогающая устранить шумы на загруженном изображении (повысить контрастность)\n",
        "def contrastingImage(img, coeff):\n",
        "  '''\n",
        "  Функция для повышения контрастности картинки.\n",
        "  На вход принимает:\n",
        "  img - файл картинки,\n",
        "  coeff - коэффициент контраста, больше либо равен 1.\n",
        "  На выходе - массив строки пикселей картинки\n",
        "  '''\n",
        "\n",
        "  result = []\n",
        "  # Определим avg - среднюю \"светимость\" пикселя на загруженной картинке\n",
        "  avg = np.mean(image.img_to_array(img))\n",
        "  # Пройдемся по каждому пикселю картинки в двумерном цикле\n",
        "  for x in range(img.size[0]):\n",
        "    for y in range(img.size[1]):\n",
        "      # Получим яркость текущего пикселя\n",
        "      g = img.getpixel((y, x))\n",
        "      # Нормируем его, применяя аналог функции активации \"гиперболический тангенс\" tanh\n",
        "      # и добавляем в список отнормированный пиксель\n",
        "      result.append((math.tanh((g - avg + coeff*2.5))+1)*127)\n",
        "      \n",
        "  return result\n",
        "\n",
        "\n",
        "# Словари для сохранения истории экспериментов\n",
        "historyNeyrons = collections.defaultdict()\n",
        "historyBatchSize = collections.defaultdict()\n",
        "historyActivation = collections.defaultdict()\n",
        "\n",
        "defNeyronsInput = int(defNeyronsInput)\n",
        "defNeyronsHidden = int(defNeyronsHidden)\n",
        "defBatchSize = int(defNeyronsHidden)\n",
        "defEpochs = int(defEpochs)\n",
        "defVerbose = int(defVerbose)"
      ],
      "execution_count": 0,
      "outputs": []
    },
    {
      "cell_type": "code",
      "metadata": {
        "id": "iVSZBc9JIDrj",
        "colab_type": "code",
        "cellView": "form",
        "colab": {}
      },
      "source": [
        "#@title 2. Загрузка базы mnist\n",
        "\n",
        "(x_train_org, y_train_org), (x_test_org, y_test_org) = mnist.load_data()"
      ],
      "execution_count": 0,
      "outputs": []
    },
    {
      "cell_type": "code",
      "metadata": {
        "id": "waZ4QbK8FNMU",
        "colab_type": "code",
        "cellView": "form",
        "colab": {}
      },
      "source": [
        "#@title 3. Нормирование и преобразование x_train и y_train\n",
        "\n",
        "x_train = x_train_org.reshape(60000, 784)\n",
        "x_test = x_test_org.reshape(10000, 784)\n",
        "x_train = x_train.astype('float32')\n",
        "x_train = x_train / 255\n",
        "x_test = x_test.astype('float32')\n",
        "x_test = x_test / 255\n",
        "y_train = utils.to_categorical(y_train_org, 10)\n",
        "y_test = utils.to_categorical(y_test_org, 10)"
      ],
      "execution_count": 0,
      "outputs": []
    },
    {
      "cell_type": "code",
      "metadata": {
        "id": "LV0Upia2KSe1",
        "colab_type": "code",
        "cellView": "form",
        "outputId": "036f9951-7da1-4c24-f691-050f22587a46",
        "colab": {
          "base_uri": "https://localhost:8080/",
          "height": 237
        }
      },
      "source": [
        "#@title 4-5. Создание нейронной сети и её обучение\n",
        "\n",
        "# Создание модели\n",
        "model = Sequential()\n",
        "model.add(Dense(defNeyronsInput, input_dim=784, activation=defActivation))\n",
        "if defNeyronsHidden > 0 :\n",
        "  model.add(Dense(defNeyronsHidden, activation=defActivation))\n",
        "model.add(Dense(10, activation=\"softmax\"))\n",
        "model.compile(loss=\"categorical_crossentropy\", optimizer=\"adam\", metrics=[\"accuracy\"])\n",
        "model.summary()\n",
        "\n",
        "# Обучение модели\n",
        "model.fit(x_train, y_train, batch_size=defBatchSize, epochs=defEpochs, verbose=defVerbose)"
      ],
      "execution_count": 42,
      "outputs": [
        {
          "output_type": "error",
          "ename": "TypeError",
          "evalue": "ignored",
          "traceback": [
            "\u001b[0;31m---------------------------------------------------------------------------\u001b[0m",
            "\u001b[0;31mTypeError\u001b[0m                                 Traceback (most recent call last)",
            "\u001b[0;32m<ipython-input-42-858ac791cccc>\u001b[0m in \u001b[0;36m<module>\u001b[0;34m()\u001b[0m\n\u001b[1;32m      1\u001b[0m \u001b[0mmodel\u001b[0m \u001b[0;34m=\u001b[0m \u001b[0mSequential\u001b[0m\u001b[0;34m(\u001b[0m\u001b[0;34m)\u001b[0m\u001b[0;34m\u001b[0m\u001b[0;34m\u001b[0m\u001b[0m\n\u001b[1;32m      2\u001b[0m \u001b[0mmodel\u001b[0m\u001b[0;34m.\u001b[0m\u001b[0madd\u001b[0m\u001b[0;34m(\u001b[0m\u001b[0mDense\u001b[0m\u001b[0;34m(\u001b[0m\u001b[0mdefNeyronsInput\u001b[0m\u001b[0;34m,\u001b[0m \u001b[0minput_dim\u001b[0m\u001b[0;34m=\u001b[0m\u001b[0;36m784\u001b[0m\u001b[0;34m,\u001b[0m \u001b[0mactivation\u001b[0m\u001b[0;34m=\u001b[0m\u001b[0mdefActivation\u001b[0m\u001b[0;34m)\u001b[0m\u001b[0;34m)\u001b[0m\u001b[0;34m\u001b[0m\u001b[0;34m\u001b[0m\u001b[0m\n\u001b[0;32m----> 3\u001b[0;31m \u001b[0;32mif\u001b[0m \u001b[0mdefNeyronsHidden\u001b[0m \u001b[0;34m>\u001b[0m \u001b[0;36m0\u001b[0m \u001b[0;34m:\u001b[0m\u001b[0;34m\u001b[0m\u001b[0;34m\u001b[0m\u001b[0m\n\u001b[0m\u001b[1;32m      4\u001b[0m   \u001b[0mmodel\u001b[0m\u001b[0;34m.\u001b[0m\u001b[0madd\u001b[0m\u001b[0;34m(\u001b[0m\u001b[0mDense\u001b[0m\u001b[0;34m(\u001b[0m\u001b[0mdefNeyronsHidden\u001b[0m\u001b[0;34m,\u001b[0m \u001b[0mactivation\u001b[0m\u001b[0;34m=\u001b[0m\u001b[0mdefActivation\u001b[0m\u001b[0;34m)\u001b[0m\u001b[0;34m)\u001b[0m\u001b[0;34m\u001b[0m\u001b[0;34m\u001b[0m\u001b[0m\n\u001b[1;32m      5\u001b[0m \u001b[0mmodel\u001b[0m\u001b[0;34m.\u001b[0m\u001b[0madd\u001b[0m\u001b[0;34m(\u001b[0m\u001b[0mDense\u001b[0m\u001b[0;34m(\u001b[0m\u001b[0;36m10\u001b[0m\u001b[0;34m,\u001b[0m \u001b[0mactivation\u001b[0m\u001b[0;34m=\u001b[0m\u001b[0;34m\"softmax\"\u001b[0m\u001b[0;34m)\u001b[0m\u001b[0;34m)\u001b[0m\u001b[0;34m\u001b[0m\u001b[0;34m\u001b[0m\u001b[0m\n",
            "\u001b[0;31mTypeError\u001b[0m: '>' not supported between instances of 'str' and 'int'"
          ]
        }
      ]
    },
    {
      "cell_type": "markdown",
      "metadata": {
        "id": "Mkb8TdpmFN6O",
        "colab_type": "text"
      },
      "source": [
        "# Light. Вариант 2"
      ]
    },
    {
      "cell_type": "markdown",
      "metadata": {
        "id": "VNgHqlmaLunm",
        "colab_type": "text"
      },
      "source": [
        "\n",
        "\n",
        "---\n",
        "\n",
        "\n",
        "Проведите серию экспериментов по перебору гиперпараметров нейронной сети, созданной на занятии.\n",
        "1.   Поменяйте количество нейронов в сети, используя следующие значения:\n",
        "  *   один слой 10 нейронов\n",
        "  *   один слой 100 нейронов\n",
        "  *   один слой 5000 нейронов\n",
        "2.   Поменяйте активационную функцию в скрытых слоях с relu на linear.\n",
        "3.   Поменяйте размеры batch_size:\n",
        "  *   1\n",
        "  *   10\n",
        "  *   100\n",
        "  *   Вся база (60000)\n",
        "4.   Запишите в таблицу получившиеся точности.\n",
        "5.   Напишите выводы по результатам проведенных тестов.\n",
        "\n",
        "\n",
        "---\n",
        "\n"
      ]
    },
    {
      "cell_type": "code",
      "metadata": {
        "id": "ylMXBoQF9cfF",
        "colab_type": "code",
        "cellView": "form",
        "colab": {}
      },
      "source": [
        "#@title 1. Поменяйте количество нейронов в сети.\n",
        "#@markdown Ниже можно изменить число нейронов, чтобы указать отличные от задания. По умолчанию - 10, 100, 5000 нейронов.\n",
        "\n",
        "neyronsModel1 = 10  #@param {type: \"number\"}\n",
        "neyronsModel2 = 100  #@param {type: \"number\"}\n",
        "neyronsModel3 = 5000  #@param {type: \"number\"}\n",
        "\n",
        "#@markdown ---\n",
        "\n",
        "# Запустим три модели с указанным числом нейронов в каждой\n",
        "historyNeyrons[neyronsModel1] = runFit(numOfNeyronsHidden=neyronsModel1)\n",
        "historyNeyrons[neyronsModel2] = runFit(numOfNeyronsHidden=neyronsModel2)\n",
        "historyNeyrons[neyronsModel3] = runFit(numOfNeyronsHidden=neyronsModel3)\n",
        "\n",
        "# Запустим функцию построения графиков\n",
        "runPlot(historyNeyrons,'custom_neyrons')"
      ],
      "execution_count": 0,
      "outputs": []
    },
    {
      "cell_type": "code",
      "metadata": {
        "id": "I0ak0n20IZvE",
        "colab_type": "code",
        "cellView": "form",
        "colab": {}
      },
      "source": [
        "#@title 2. Поменяйте активационную функцию в скрытых слоях (у нас он один) с relu на linear.\n",
        "#@markdown Ниже можно изменить активационную функцию (не 'relu') для сравнения с работой функции активации по умолчанию ('relu'). В целях проверить работу нескольких функций активаций добавлена возможность построения модели с ними, но можно указать 'none', чтобы не проводить дополнительные эксперименты.\n",
        "\n",
        "customActivation1 = \"linear\"  #@param ['linear', 'tanh', 'elu', 'selu', 'sigmoid', 'hard_sigmoid', 'exponential']\n",
        "customActivation2 = \"tanh\"  #@param ['none', 'linear', 'tanh', 'elu', 'selu', 'sigmoid', 'hard_sigmoid', 'exponential']\n",
        "customActivation3 = \"elu\"  #@param ['none', 'linear', 'tanh', 'elu', 'selu', 'sigmoid', 'hard_sigmoid', 'exponential']\n",
        "customActivation4 = \"selu\"  #@param ['none', 'linear', 'tanh', 'elu', 'selu', 'sigmoid', 'hard_sigmoid', 'exponential']\n",
        "customActivation5 = \"sigmoid\"  #@param ['none', 'linear', 'tanh', 'elu', 'selu', 'sigmoid', 'hard_sigmoid', 'exponential']\n",
        "customActivation6 = \"hard_sigmoid\"  #@param ['none', 'linear', 'tanh', 'elu', 'selu', 'sigmoid', 'hard_sigmoid', 'exponential']\n",
        "customActivation7 = \"exponential\"  #@param ['none', 'linear', 'tanh', 'elu', 'selu', 'sigmoid', 'hard_sigmoid', 'exponential']\n",
        "\n",
        "#@markdown ---\n",
        "\n",
        "# Запустим модели с указанной активационной функцией\n",
        "historyActivation[defActivation] = runFit()\n",
        "historyActivation[customActivation1] = runFit(activation=customActivation1)\n",
        "if customActivation2 != 'none':\n",
        "  historyActivation[customActivation2] = runFit(activation=customActivation2)\n",
        "if customActivation3 != 'none':\n",
        "  historyActivation[customActivation3] = runFit(activation=customActivation3)\n",
        "if customActivation4 != 'none':\n",
        "  historyActivation[customActivation4] = runFit(activation=customActivation4)\n",
        "if customActivation5 != 'none':\n",
        "  historyActivation[customActivation5] = runFit(activation=customActivation5)\n",
        "if customActivation6 != 'none':\n",
        "  historyActivation[customActivation6] = runFit(activation=customActivation6)\n",
        "if customActivation7 != 'none':\n",
        "  historyActivation[customActivation7] = runFit(activation=customActivation7)\n",
        "\n",
        "# Запустим функцию построения графиков\n",
        "runPlot(historyActivation,'custom_activation')"
      ],
      "execution_count": 0,
      "outputs": []
    },
    {
      "cell_type": "code",
      "metadata": {
        "id": "5RPzIOAQTn0z",
        "colab_type": "code",
        "cellView": "form",
        "colab": {}
      },
      "source": [
        "#@title 3. Поменяйте размеры batch_size.\n",
        "#@markdown Ниже можно изменить число нейронов, чтобы указать отличные от задания. По умолчанию: 1, 10, 100, 60000. Внимание! При batch_size < 50 возможно длительное ожидание завершения работы блока.\n",
        "\n",
        "batchModel1 = 1  #@param {type: \"number\"}\n",
        "batchModel2 = 10  #@param {type: \"number\"}\n",
        "batchModel3 = 100  #@param {type: \"number\"}\n",
        "batchModel4 = 60000  #@param {type: \"number\"}\n",
        "\n",
        "#@markdown ---\n",
        "\n",
        "# Запустим четыре модели с указанным числом batch_size в каждой\n",
        "historyBatchSize[batchModel1] = runFit(batchSize=batchModel1)\n",
        "historyBatchSize[batchModel2] = runFit(batchSize=batchModel2)\n",
        "historyBatchSize[batchModel3] = runFit(batchSize=batchModel3)\n",
        "historyBatchSize[batchModel4] = runFit(batchSize=batchModel4)\n",
        "\n",
        "# Запустим функцию построения графиков\n",
        "runPlot(historyBatchSize,'custom_batchsize')"
      ],
      "execution_count": 0,
      "outputs": []
    },
    {
      "cell_type": "markdown",
      "metadata": {
        "id": "s_Ga0hB3d4iO",
        "colab_type": "text"
      },
      "source": [
        "4. Запишите в таблицу получившиеся точности."
      ]
    },
    {
      "cell_type": "code",
      "metadata": {
        "id": "Aokk5_-McZDa",
        "colab_type": "code",
        "cellView": "form",
        "colab": {}
      },
      "source": [
        "#@title 4.1 Таблица экспериментов, зависимость точности от числа нейронов.\n",
        "\n",
        "neyronsAccuracyData = pd.DataFrame(index=range(1,defEpochs+1))\n",
        "for key, value in historyNeyrons.items():\n",
        "  neyronsAccuracyData[key] = value.history['accuracy']\n",
        "\n",
        "print('Строки - номера эпох, столбцы - число нейронов в скрытом слое')\n",
        "neyronsAccuracyData"
      ],
      "execution_count": 0,
      "outputs": []
    },
    {
      "cell_type": "code",
      "metadata": {
        "id": "JJ2_NO7qcMZs",
        "colab_type": "code",
        "cellView": "form",
        "colab": {}
      },
      "source": [
        "#@title 4.2 Таблица экспериментов, зависимость точности от активационной функции.\n",
        "\n",
        "activationAccuracyData = pd.DataFrame(index=range(1,defEpochs+1))\n",
        "for key, value in historyActivation.items():\n",
        "  activationAccuracyData[key] = value.history['accuracy']\n",
        "\n",
        "print('Строки - номера эпох, столбцы - название активационной функции')\n",
        "activationAccuracyData"
      ],
      "execution_count": 0,
      "outputs": []
    },
    {
      "cell_type": "code",
      "metadata": {
        "id": "lD8RLUhDdD3i",
        "colab_type": "code",
        "cellView": "form",
        "colab": {}
      },
      "source": [
        "#@title 4.3 Таблица экспериментов с изменением batch_size.\n",
        "\n",
        "batchSizeAccuracyData = pd.DataFrame(index=range(1,defEpochs+1))\n",
        "for key, value in historyBatchSize.items():\n",
        "  batchSizeAccuracyData[key] = value.history['accuracy']\n",
        "\n",
        "print('Строки - номера эпох, столбцы - размер batch_size')\n",
        "batchSizeAccuracyData"
      ],
      "execution_count": 0,
      "outputs": []
    },
    {
      "cell_type": "markdown",
      "metadata": {
        "id": "79WCwfKkiyNy",
        "colab_type": "text"
      },
      "source": [
        "5. Напишите выводы по результатам проведенных тестов.\n",
        "\n",
        "Выводы:\n",
        "\n",
        "1. При увеличении числа нейронов в скрытом слое точность предсказания НС повышается. При этом есть некое значение числа нейронов, выше которого точность либо повышается совсем незначительно, либо не повышается вовсе, при этом временные затраты на обучение нейронной сети сильно повышаются.\n",
        "2. При уменьшении batch_size увеличивается точность предсказания НС. При совсем малых значениях может потребоваться много ресурсов для обучения модели НС (либо время, либо аппаратные мощности). При больших значениях выборок требуется большое количество эпох.\n",
        "3. Активационная функция relu показала себя лучше, чем другие проверенные АФ (linear, tanh, elu, selu, sigmoid, hard_sigmoid, exponential). При этом функция exponential довольно странно себя показала. Требуется дополнительное исследование отдельно по ней.\n",
        "4. Если сделать число эпох большим, то модель НС может переобучиться."
      ]
    },
    {
      "cell_type": "markdown",
      "metadata": {
        "id": "vbEb83sXFUD3",
        "colab_type": "text"
      },
      "source": [
        "# Pro"
      ]
    },
    {
      "cell_type": "markdown",
      "metadata": {
        "id": "XASRsDKle8nJ",
        "colab_type": "text"
      },
      "source": [
        "\n",
        "\n",
        "---\n",
        "\n",
        "\n",
        "Распознайте рукописную цифру, созданную вами с помощью графического редактора (например, Paint).\n",
        "Последовательность шагов:\n",
        "1. В графическом редакторе рисуем произвольную цифру.\n",
        "2. Сохраняем документ и загружаем его в Collaboratory.\n",
        "3. С помощью функции image.load_img(path, target_size=(28, 28), color_mode = ‘grayscale’) загружаем картинку в переменную.\n",
        "4. С помощью функции image.img_to_array(img) преобразуем изображение в numpy-массив.\n",
        "5. Выполняем инверсию цветов, нормирование и решейп массива.\n",
        "6. Выполняем распознавание собственной рукописной цифры.\n",
        "\n",
        "Реализуйте тот же алгоритм для написанной на листе от руки цифры (для этого необходимо сделать дополнительную предобработку изображения).\n",
        "\n",
        "\n",
        "---\n",
        "\n",
        "\n"
      ]
    },
    {
      "cell_type": "code",
      "metadata": {
        "id": "x2snOoNsgAfQ",
        "colab_type": "code",
        "cellView": "form",
        "colab": {}
      },
      "source": [
        "#@title 1-2. В графическом редакторе рисуем произвольную цифру. Сохраняем документ и загружаем его в Collaboratory.\n",
        "\n",
        "uploadedFile = files.upload()"
      ],
      "execution_count": 0,
      "outputs": []
    },
    {
      "cell_type": "code",
      "metadata": {
        "id": "_Bgyk_BThA8Z",
        "colab_type": "code",
        "cellView": "form",
        "colab": {}
      },
      "source": [
        "#@title 3. С помощью функции image.load_img(path, target_size=(28, 28), color_mode = ‘grayscale’) загружаем картинку в переменную.\n",
        "\n",
        "for key in uploadedFile.keys():\n",
        "  filename = key\n",
        "img = image.load_img(filename, target_size=(28, 28), color_mode = 'grayscale')\n",
        "img"
      ],
      "execution_count": 0,
      "outputs": []
    },
    {
      "cell_type": "code",
      "metadata": {
        "id": "zLAQttpYiuRU",
        "colab_type": "code",
        "cellView": "form",
        "colab": {}
      },
      "source": [
        "#@title 4. С помощью функции image.img_to_array(img) преобразуем изображение в numpy-массив.\n",
        "\n",
        "imageArray = image.img_to_array(img).reshape(28,28)\n",
        "plt.imshow(Image.fromarray(imageArray).convert('RGBA')) # Нарисуем картинку из тестового набора под номером n_rec\n",
        "print('Отрисуем массив, полученный из файла загруженой цифры, на экран')\n",
        "plt.show()"
      ],
      "execution_count": 0,
      "outputs": []
    },
    {
      "cell_type": "code",
      "metadata": {
        "id": "W7Oknbsaj-ou",
        "colab_type": "code",
        "cellView": "form",
        "colab": {}
      },
      "source": [
        "#@title 5. Выполняем инверсию цветов, нормирование и решейп массива.\n",
        "\n",
        "# Инверсия цветов\n",
        "imageArray = 255 - imageArray\n",
        "plt.imshow(Image.fromarray(imageArray).convert('RGBA'))\n",
        "print('Отрисуем инвертированную картинку на экран')\n",
        "plt.show()\n",
        "\n",
        "# Решейп\n",
        "imageArrayReshape = imageArray.reshape(784,)\n",
        "print('Размерность массива до решейпа',imageArrayReshape.shape)\n",
        "imageArrayReshape = np.expand_dims(imageArrayReshape, axis=0)\n",
        "print('Размерность массива после решейпа',imageArrayReshape.shape)\n",
        "\n",
        "# Нормирование\n",
        "imageArray = imageArray.astype('float32')\n",
        "imageArray = imageArray / 255\n"
      ],
      "execution_count": 0,
      "outputs": []
    },
    {
      "cell_type": "code",
      "metadata": {
        "id": "6O4BL2YOlJbE",
        "colab_type": "code",
        "cellView": "form",
        "colab": {}
      },
      "source": [
        "#@title 6. Выполняем распознавание собственной рукописной цифры (используется модель, построенная на шаге 3).\n",
        "\n",
        "prediction = model.predict(imageArrayReshape)\n",
        "print('Выходной вектор результата распознавания:',prediction)\n",
        "prediction = np.argmax(prediction)\n",
        "print('Модель распознала цифру:',prediction)"
      ],
      "execution_count": 0,
      "outputs": []
    },
    {
      "cell_type": "code",
      "metadata": {
        "id": "hsheiMUScxQO",
        "colab_type": "code",
        "cellView": "form",
        "colab": {}
      },
      "source": [
        "#@title Реализуйте тот же алгоритм для написанной на листе от руки цифры (для этого необходимо сделать дополнительную предобработку изображения). Необходимо загрузить файл (при запуске ячейки отобразится панель загрузки).\n",
        "\n",
        "uploadedFile = files.upload()\n",
        "\n",
        "for key in uploadedFile.keys():\n",
        "  filename = key\n",
        "img = image.load_img(filename, target_size=(28, 28), color_mode = 'grayscale')"
      ],
      "execution_count": 0,
      "outputs": []
    },
    {
      "cell_type": "code",
      "metadata": {
        "id": "VJb5jG2DrHCN",
        "colab_type": "code",
        "cellView": "form",
        "colab": {}
      },
      "source": [
        "#@title Здесь нам потребуется поработать с контрастностью картинки. Для этого вводится коэффициент контрастности contrastCoeff (лучшее значение подбирается опытным путём). Используется модель, построенная на шаге 3.\n",
        "\n",
        "contrastCoeff = 0 #@param {type:\"slider\", min:0, max:100, step:1}\n",
        "\n",
        "\n",
        "\n",
        "print('Отрисуем загруженую цифру на экран')\n",
        "imageArray = image.img_to_array(img).reshape(28,28)\n",
        "plt.imshow(Image.fromarray(imageArray).convert('RGBA'))\n",
        "plt.show()\n",
        "\n",
        "# Отконтрастируем картинку\n",
        "contrastedImgArr = contrastingImage(img, contrastCoeff)\n",
        "\n",
        "# Преобразуем полученный одномерный массив в двумерный\n",
        "imageArray = np.asarray(contrastedImgArr).reshape(28,28)\n",
        "print('Отрисуем контрастированную картинку на экран')\n",
        "plt.imshow(Image.fromarray(imageArray).convert('RGBA'))\n",
        "plt.show()\n",
        "\n",
        "# Инверсия цветов\n",
        "imageArray = 255 - imageArray\n",
        "print('Отрисуем инвертированную картинку на экран')\n",
        "plt.imshow(Image.fromarray(imageArray).convert('RGBA'))\n",
        "plt.show()\n",
        "\n",
        "# Сделаем решейп\n",
        "imageArray = imageArray.reshape(784,)\n",
        "imageArray = np.expand_dims(imageArray, axis=0)\n",
        "\n",
        "# Нормируем\n",
        "imageArray = imageArray.astype('float32')\n",
        "imageArray = imageArray / 255\n",
        "\n",
        "# Распознаём\n",
        "prediction = model.predict(imageArray)\n",
        "print('Выходной вектор результата распознавания:',prediction)\n",
        "prediction = np.argmax(prediction)\n",
        "print('Модель распознала цифру:',prediction)"
      ],
      "execution_count": 0,
      "outputs": []
    },
    {
      "cell_type": "code",
      "metadata": {
        "id": "XtRpr8AYVh4f",
        "colab_type": "code",
        "cellView": "form",
        "colab": {}
      },
      "source": [
        "#@title Зачистка папки виртуального окружения от загруженных картинок формата jpeg, png и jpg.\n",
        "\n",
        "!rm *.jpeg *.png *.jpg\n",
        "!ls"
      ],
      "execution_count": 0,
      "outputs": []
    }
  ]
}